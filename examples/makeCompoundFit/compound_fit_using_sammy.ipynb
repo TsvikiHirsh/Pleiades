{
 "cells": [
  {
   "cell_type": "markdown",
   "metadata": {},
   "source": [
    "# Compound Fitting with `SAMMY`\n",
    "\n",
    "This Jupyter Notebook cell demonstrates the application of the `SAMMY` tool for fitting spectral transmission data using the `pleiades` utilities.\n",
    "\n",
    "The transmission data utilized in this analysis originates from the [RPI measurement](https://doi.org/10.1016/j.anucene.2014.01.041) of enriched samples of [Eu-nat](https://www-nds.iaea.org/exfor/servlet/X4sGetSubent?subID=14382008) and [Eu-153](https://www-nds.iaea.org/exfor/servlet/X4sGetSubent?subID=14382007), which are documented on [EXFOR](https://www-nds.iaea.org/index-meeting-crp/CM-RF-2013/).\n",
    "\n",
    "Europium comprises two stable isotopes, Eu-151 and Eu-153, with natural abundances of 47.8% and 52.2%, respectively. This example focuses on determining the abundances of these isotopes in both natural and enriched samples solely based on fitting the resonance transmission spectrum.\n",
    "\n",
    "The analysis involves two main steps:\n",
    "\n",
    "1. **Individual Isotope Fitting:** SAMMY is executed separately for each isotope. A simple configuration file is used to generate the resonance parameter file (.par file) employing resonance data directly sourced from ENDF8.\n",
    "\n",
    "2. **Compound Isotopic Fitting:** The resonance spectra of both isotopes are combined to form an isotopic compound. SAMMY is then run again to fit the resonance spectrum and determine the most probable abundances of the isotopes."
   ]
  },
  {
   "cell_type": "code",
   "execution_count": 1,
   "metadata": {},
   "outputs": [],
   "source": [
    "%matplotlib inline\n",
    "import pandas\n",
    "import sys\n",
    "sys.path.append(\"/sammy/Pleiades\")\n",
    "import pleiades"
   ]
  },
  {
   "cell_type": "markdown",
   "metadata": {},
   "source": [
    "## Configuration File for a Single Isotope\n",
    "\n",
    "In this section, we provide an overview of the essential parameters within the configuration file. The configuration file is structured according to SAMMY conventions and contains vital information for the conversion process. Below, we focus on the key parameters relevant to this example:\n",
    "\n",
    "- **ELMNT:** Specifies the element's name, denoted as 'Eu_151'. This identifier is crucial for SAMMY to recognize the isotope.\n",
    "\n",
    "- **AW:** Is the isotopic mass. If `pleiades` identifies the `ELMNT` name, it automatically retrieves the mass from the AME database. Therefore, this parameter can be  set as 'auto'.\n",
    "\n",
    "- **EMIN, EMAX:** Define the energy range for the analysis, indicating the minimum and maximum energies considered.\n",
    "\n",
    "- **Commands:** This section includes essential commands for the configuration and generation of the `.par` file. Of particular importance is the 'INPUT IS ENDF/B FILE' command, instructing SAMMY to locate the reference to resonance data in the ENDF file. A MAT number will be replaced during subsequent steps, based on the isotope name.\n",
    "\n",
    "- **Fit Parameters:** Defines crucial parameters for the fitting process:\n",
    "  - `TEMP:` Represents the temperature in Kelvin.\n",
    "  - `DIST:` Signifies the TOF (Time of Flight) distance in meters.\n",
    "  - `CRFN:` Indicates the channel radius (not crucial at this stage).\n",
    "  - `THICK:` Denotes the target thickness in units of atoms/barn.\n",
    "  - `CROSS:` Specifies the reaction type, set here to 'TRANSMISSION.'\n",
    "\n",
    "[comment]: # (- **Spin Groups:** This section is optional for this step. Here, two spin groups for the isotopes are specified. SAMMY automatically extracts this data from ENDF.)\n",
    "\n",
    "Below is an example of the configuration file structure:\n",
    "\n",
    "```ini\n",
    "[Card1]\n",
    "TITLE = input to convert ENDF8 file into a SAMMY par file\n",
    "\n",
    "[Card2]\n",
    "ELMNT = Eu-151\n",
    "AW = auto\n",
    "EMIN = 0.001\n",
    "EMAX = 98.8\n",
    "\n",
    "[Card3]\n",
    "commands = CHI_SQUARED,CSISRS,NO_SOLVE_BAYES,USE_ENDF_ENERGY,INPUT IS ENDF/B FILE\n",
    "\n",
    "[Card5]\n",
    "TEMP = 296.\n",
    "DIST = 25.584\n",
    "\n",
    "[Card7]\n",
    "CRFN = 1.0\n",
    "THICK = 0.0021\n",
    "\n",
    "[Card8]\n",
    "CROSS = TRANSMISSION \n",
    "\n",
    "\n",
    "we save this file as `config_Eu_151.ini` and use `pleiades` to parse the file"
   ]
  },
  {
   "cell_type": "code",
   "execution_count": 2,
   "metadata": {},
   "outputs": [
    {
     "data": {
      "text/plain": [
       "<pleiades.sammyInput.InputFile at 0x7fc28444aa90>"
      ]
     },
     "execution_count": 2,
     "metadata": {},
     "output_type": "execute_result"
    }
   ],
   "source": [
    "\n",
    "from pleiades import sammyInput\n",
    "\n",
    "# read config files and write inp files\n",
    "saminp = sammyInput.InputFile(\"config_Eu_151.ini\").process().write(\"Eu_151.inp\")\n",
    "\n",
    "# update the element name to Eu_153 and write a new file. \n",
    "# The matnumber and atomic weight are updates automaically\n",
    "saminp.data[\"Card2\"][\"elmnt\"] = \"Eu-153\"\n",
    "saminp.data[\"Card2\"][\"aw\"] = \"auto\"\n",
    "saminp.process().write(\"Eu_153.inp\")\n"
   ]
  },
  {
   "cell_type": "code",
   "execution_count": 3,
   "metadata": {},
   "outputs": [
    {
     "name": "stdout",
     "output_type": "stream",
     "text": [
      "input to convert ENDF8 file into a SAMMY par file                               \n",
      "Eu-151      150.9199    0.0010   98.8000\n",
      "CHI SQUARED IS WANTEd\n",
      "CSISRS\n",
      "DO NOT SOLVE BAYES EQUATIONS\n",
      "USE ENERGY RANGE FROm endf/b file\n",
      "INPUT IS ENDF/B FILE MAT=6325\n",
      "\n",
      "  296.0000   25.5840\n",
      "    1.0000    0.0021\n",
      "TRANSMISSION                                                                    \n",
      "\n"
     ]
    }
   ],
   "source": [
    "!cat Eu_151.inp"
   ]
  },
  {
   "cell_type": "markdown",
   "metadata": {},
   "source": [
    "check the content of .inp files produced"
   ]
  },
  {
   "cell_type": "code",
   "execution_count": 4,
   "metadata": {},
   "outputs": [
    {
     "name": "stdout",
     "output_type": "stream",
     "text": [
      "input to convert ENDF8 file into a SAMMY par file                               \n",
      "Eu-153      152.9212    0.0010   98.8000\n",
      "CHI SQUARED IS WANTEd\n",
      "CSISRS\n",
      "DO NOT SOLVE BAYES EQUATIONS\n",
      "USE ENERGY RANGE FROm endf/b file\n",
      "INPUT IS ENDF/B FILE MAT=6331\n",
      "\n",
      "  296.0000   25.5840\n",
      "    1.0000    0.0021\n",
      "TRANSMISSION                                                                    \n",
      "\n"
     ]
    }
   ],
   "source": [
    "!cat Eu_153.inp"
   ]
  },
  {
   "cell_type": "markdown",
   "metadata": {},
   "source": [
    "## Run SAMMY with ENDF data to produce .par file\n",
    "For this step we use the `pleiades.sammyRunner` utility function `run_endf`"
   ]
  },
  {
   "cell_type": "code",
   "execution_count": 5,
   "metadata": {},
   "outputs": [
    {
     "ename": "FileNotFoundError",
     "evalue": "[Errno 2] No such file or directory: 'archive/Eu_151/SAMQUA.PAR'",
     "output_type": "error",
     "traceback": [
      "\u001b[0;31m---------------------------------------------------------------------------\u001b[0m",
      "\u001b[0;31mFileNotFoundError\u001b[0m                         Traceback (most recent call last)",
      "File \u001b[0;32m/usr/lib/python3.8/shutil.py:791\u001b[0m, in \u001b[0;36mmove\u001b[0;34m(src, dst, copy_function)\u001b[0m\n\u001b[1;32m    790\u001b[0m \u001b[39mtry\u001b[39;00m:\n\u001b[0;32m--> 791\u001b[0m     os\u001b[39m.\u001b[39;49mrename(src, real_dst)\n\u001b[1;32m    792\u001b[0m \u001b[39mexcept\u001b[39;00m \u001b[39mOSError\u001b[39;00m:\n",
      "\u001b[0;31mFileNotFoundError\u001b[0m: [Errno 2] No such file or directory: 'archive/Eu_151/SAMQUA.PAR' -> 'archive/Eu_151/results/Eu_151.par'",
      "\nDuring handling of the above exception, another exception occurred:\n",
      "\u001b[0;31mFileNotFoundError\u001b[0m                         Traceback (most recent call last)",
      "\u001b[1;32m/sammy/Pleiades/examples/makeCompoundFit/compound_fit_using_sammy.ipynb Cell 9\u001b[0m line \u001b[0;36m3\n\u001b[1;32m      <a href='vscode-notebook-cell://attached-container%2B7b22636f6e7461696e65724e616d65223a222f62656175746966756c5f72616d616e756a616e227d/sammy/Pleiades/examples/makeCompoundFit/compound_fit_using_sammy.ipynb#X53sdnNjb2RlLXJlbW90ZQ%3D%3D?line=0'>1</a>\u001b[0m \u001b[39mfrom\u001b[39;00m \u001b[39mpleiades\u001b[39;00m \u001b[39mimport\u001b[39;00m sammyRunner\n\u001b[0;32m----> <a href='vscode-notebook-cell://attached-container%2B7b22636f6e7461696e65724e616d65223a222f62656175746966756c5f72616d616e756a616e227d/sammy/Pleiades/examples/makeCompoundFit/compound_fit_using_sammy.ipynb#X53sdnNjb2RlLXJlbW90ZQ%3D%3D?line=2'>3</a>\u001b[0m sammyRunner\u001b[39m.\u001b[39;49mrun_endf(archivename\u001b[39m=\u001b[39;49m\u001b[39m\"\u001b[39;49m\u001b[39mEu_151\u001b[39;49m\u001b[39m\"\u001b[39;49m,inpfile\u001b[39m=\u001b[39;49m\u001b[39m\"\u001b[39;49m\u001b[39mEu_151.inp\u001b[39;49m\u001b[39m\"\u001b[39;49m,datafile\u001b[39m=\u001b[39;49m\u001b[39m\"\u001b[39;49m\u001b[39mEu_nat.dat\u001b[39;49m\u001b[39m\"\u001b[39;49m)\n",
      "File \u001b[0;32m/sammy/Pleiades/pleiades/sammyRunner.py:135\u001b[0m, in \u001b[0;36mrun_endf\u001b[0;34m(archivename, inpfile, datafile)\u001b[0m\n\u001b[1;32m    132\u001b[0m os\u001b[39m.\u001b[39mchdir(pwd)\n\u001b[1;32m    134\u001b[0m \u001b[39m# move files\u001b[39;00m\n\u001b[0;32m--> 135\u001b[0m shutil\u001b[39m.\u001b[39;49mmove(archivepath \u001b[39m/\u001b[39;49m\u001b[39m'\u001b[39;49m\u001b[39mSAMQUA.PAR\u001b[39;49m\u001b[39m'\u001b[39;49m, archivepath \u001b[39m/\u001b[39;49m \u001b[39mf\u001b[39;49m\u001b[39m'\u001b[39;49m\u001b[39mresults/\u001b[39;49m\u001b[39m{\u001b[39;49;00marchivename\u001b[39m}\u001b[39;49;00m\u001b[39m.par\u001b[39;49m\u001b[39m'\u001b[39;49m)\n\u001b[1;32m    136\u001b[0m shutil\u001b[39m.\u001b[39mmove(archivepath \u001b[39m/\u001b[39m\u001b[39m'\u001b[39m\u001b[39mSAMMY.LST\u001b[39m\u001b[39m'\u001b[39m, archivepath \u001b[39m/\u001b[39m \u001b[39mf\u001b[39m\u001b[39m'\u001b[39m\u001b[39mresults/\u001b[39m\u001b[39m{\u001b[39;00marchivename\u001b[39m}\u001b[39;00m\u001b[39m.lst\u001b[39m\u001b[39m'\u001b[39m)\n\u001b[1;32m    137\u001b[0m shutil\u001b[39m.\u001b[39mmove(archivepath \u001b[39m/\u001b[39m\u001b[39m'\u001b[39m\u001b[39mSAMMY.LPT\u001b[39m\u001b[39m'\u001b[39m, archivepath \u001b[39m/\u001b[39m \u001b[39mf\u001b[39m\u001b[39m'\u001b[39m\u001b[39mresults/\u001b[39m\u001b[39m{\u001b[39;00marchivename\u001b[39m}\u001b[39;00m\u001b[39m.lpt\u001b[39m\u001b[39m'\u001b[39m)\n",
      "File \u001b[0;32m/usr/lib/python3.8/shutil.py:811\u001b[0m, in \u001b[0;36mmove\u001b[0;34m(src, dst, copy_function)\u001b[0m\n\u001b[1;32m    809\u001b[0m         rmtree(src)\n\u001b[1;32m    810\u001b[0m     \u001b[39melse\u001b[39;00m:\n\u001b[0;32m--> 811\u001b[0m         copy_function(src, real_dst)\n\u001b[1;32m    812\u001b[0m         os\u001b[39m.\u001b[39munlink(src)\n\u001b[1;32m    813\u001b[0m \u001b[39mreturn\u001b[39;00m real_dst\n",
      "File \u001b[0;32m/usr/lib/python3.8/shutil.py:435\u001b[0m, in \u001b[0;36mcopy2\u001b[0;34m(src, dst, follow_symlinks)\u001b[0m\n\u001b[1;32m    433\u001b[0m \u001b[39mif\u001b[39;00m os\u001b[39m.\u001b[39mpath\u001b[39m.\u001b[39misdir(dst):\n\u001b[1;32m    434\u001b[0m     dst \u001b[39m=\u001b[39m os\u001b[39m.\u001b[39mpath\u001b[39m.\u001b[39mjoin(dst, os\u001b[39m.\u001b[39mpath\u001b[39m.\u001b[39mbasename(src))\n\u001b[0;32m--> 435\u001b[0m copyfile(src, dst, follow_symlinks\u001b[39m=\u001b[39;49mfollow_symlinks)\n\u001b[1;32m    436\u001b[0m copystat(src, dst, follow_symlinks\u001b[39m=\u001b[39mfollow_symlinks)\n\u001b[1;32m    437\u001b[0m \u001b[39mreturn\u001b[39;00m dst\n",
      "File \u001b[0;32m/usr/lib/python3.8/shutil.py:264\u001b[0m, in \u001b[0;36mcopyfile\u001b[0;34m(src, dst, follow_symlinks)\u001b[0m\n\u001b[1;32m    262\u001b[0m     os\u001b[39m.\u001b[39msymlink(os\u001b[39m.\u001b[39mreadlink(src), dst)\n\u001b[1;32m    263\u001b[0m \u001b[39melse\u001b[39;00m:\n\u001b[0;32m--> 264\u001b[0m     \u001b[39mwith\u001b[39;00m \u001b[39mopen\u001b[39;49m(src, \u001b[39m'\u001b[39;49m\u001b[39mrb\u001b[39;49m\u001b[39m'\u001b[39;49m) \u001b[39mas\u001b[39;00m fsrc, \u001b[39mopen\u001b[39m(dst, \u001b[39m'\u001b[39m\u001b[39mwb\u001b[39m\u001b[39m'\u001b[39m) \u001b[39mas\u001b[39;00m fdst:\n\u001b[1;32m    265\u001b[0m         \u001b[39m# macOS\u001b[39;00m\n\u001b[1;32m    266\u001b[0m         \u001b[39mif\u001b[39;00m _HAS_FCOPYFILE:\n\u001b[1;32m    267\u001b[0m             \u001b[39mtry\u001b[39;00m:\n",
      "\u001b[0;31mFileNotFoundError\u001b[0m: [Errno 2] No such file or directory: 'archive/Eu_151/SAMQUA.PAR'"
     ]
    }
   ],
   "source": [
    "from pleiades import sammyRunner\n",
    "\n",
    "sammyRunner.run_endf(archivename=\"Eu_151\",inpfile=\"Eu_151.inp\",datafile=\"Eu_nat.dat\")"
   ]
  },
  {
   "cell_type": "code",
   "execution_count": 13,
   "metadata": {},
   "outputs": [
    {
     "name": "stdout",
     "output_type": "stream",
     "text": [
      "Eu_151.dat  Eu_151.inp  Eu_151.out  \u001b[0m\u001b[01;34mresults\u001b[0m/\n"
     ]
    }
   ],
   "source": [
    "ls archive/Eu_151"
   ]
  },
  {
   "cell_type": "code",
   "execution_count": null,
   "metadata": {},
   "outputs": [],
   "source": []
  },
  {
   "cell_type": "markdown",
   "metadata": {},
   "source": []
  }
 ],
 "metadata": {
  "kernelspec": {
   "display_name": "Python 3 (ipykernel)",
   "language": "python",
   "name": "python3"
  },
  "language_info": {
   "codemirror_mode": {
    "name": "ipython",
    "version": 3
   },
   "file_extension": ".py",
   "mimetype": "text/x-python",
   "name": "python",
   "nbconvert_exporter": "python",
   "pygments_lexer": "ipython3",
   "version": "3.8.10"
  }
 },
 "nbformat": 4,
 "nbformat_minor": 2
}
