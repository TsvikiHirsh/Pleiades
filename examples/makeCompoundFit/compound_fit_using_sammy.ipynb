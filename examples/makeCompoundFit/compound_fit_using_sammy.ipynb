{
 "cells": [
  {
   "cell_type": "markdown",
   "metadata": {},
   "source": [
    "# Compound Fitting with `SAMMY`\n",
    "\n",
    "This Jupyter Notebook cell demonstrates the application of the `SAMMY` tool for fitting spectral transmission data using the `pleiades` utilities.\n",
    "\n",
    "The transmission data utilized in this analysis originates from the [RPI measurement](https://doi.org/10.1016/j.anucene.2014.01.041) of enriched samples of [Eu-nat](https://www-nds.iaea.org/exfor/servlet/X4sGetSubent?subID=14382008) and [Eu-153](https://www-nds.iaea.org/exfor/servlet/X4sGetSubent?subID=14382007), which are documented on [EXFOR](https://www-nds.iaea.org/index-meeting-crp/CM-RF-2013/).\n",
    "\n",
    "Europium comprises two stable isotopes, Eu-151 and Eu-153, with natural abundances of 47.8% and 52.2%, respectively. This example focuses on determining the abundances of these isotopes in both natural and enriched samples solely based on fitting the resonance transmission spectrum.\n",
    "\n",
    "The analysis involves two main steps:\n",
    "\n",
    "1. **Individual Isotope Fitting:** SAMMY is executed separately for each isotope. A simple configuration file is used to generate the resonance parameter file (.par file) employing resonance data directly sourced from ENDF8.\n",
    "\n",
    "2. **Compound Isotopic Fitting:** The resonance spectra of both isotopes are combined to form an isotopic compound. SAMMY is then run again to fit the resonance spectrum and determine the most probable abundances of the isotopes."
   ]
  },
  {
   "cell_type": "code",
   "execution_count": 4,
   "metadata": {},
   "outputs": [],
   "source": [
    "%matplotlib inline\n",
    "import pandas\n",
    "import pleiades"
   ]
  },
  {
   "cell_type": "markdown",
   "metadata": {},
   "source": [
    "## Configuration File for a Single Isotope\n",
    "\n",
    "In this section, we provide an overview of the essential parameters within the configuration file. The configuration file is structured according to SAMMY conventions and contains vital information for the conversion process. Below, we focus on the key parameters relevant to this example:\n",
    "\n",
    "- **ELMNT:** Specifies the element's name, denoted as 'Eu_151'. This identifier is crucial for SAMMY to recognize the isotope.\n",
    "\n",
    "- **AW:** Is the isotopic mass. If `pleiades` identifies the `ELMNT` name, it automatically retrieves the mass from the AME database. Therefore, this parameter can be  set as 'auto'.\n",
    "\n",
    "- **EMIN, EMAX:** Define the energy range for the analysis, indicating the minimum and maximum energies considered.\n",
    "\n",
    "- **Commands:** This section includes essential commands for the configuration and generation of the `.par` file. Of particular importance is the 'INPUT IS ENDF/B FILE' command, instructing SAMMY to locate the reference to resonance data in the ENDF file. A MAT number will be replaced during subsequent steps, based on the isotope name.\n",
    "\n",
    "- **Fit Parameters:** Defines crucial parameters for the fitting process:\n",
    "  - `TEMP:` Represents the temperature in Kelvin.\n",
    "  - `DIST:` Signifies the TOF (Time of Flight) distance in meters.\n",
    "  - `CRFN:` Indicates the channel radius (not crucial at this stage).\n",
    "  - `THICK:` Denotes the target thickness in units of atoms/barn.\n",
    "  - `CROSS:` Specifies the reaction type, set here to 'TRANSMISSION.'\n",
    "\n",
    "[comment]: # (- **Spin Groups:** This section is optional for this step. Here, two spin groups for the isotopes are specified. SAMMY automatically extracts this data from ENDF.)\n",
    "\n",
    "Below is an example of the configuration file structure:\n",
    "\n",
    "```ini\n",
    "[Card1]\n",
    "TITLE = input to convert ENDF8 file into a SAMMY par file\n",
    "\n",
    "[Card2]\n",
    "ELMNT = Eu-151\n",
    "AW = auto\n",
    "EMIN = 0.001\n",
    "EMAX = 98.8\n",
    "\n",
    "[Card3]\n",
    "commands = CHI_SQUARED,CSISRS,NO_SOLVE_BAYES,USE_ENDF_ENERGY,INPUT IS ENDF/B FILE\n",
    "\n",
    "[Card5]\n",
    "TEMP = 296.\n",
    "DIST = 25.584\n",
    "\n",
    "[Card7]\n",
    "CRFN = 1.0\n",
    "THICK = 0.0021\n",
    "\n",
    "[Card8]\n",
    "CROSS = TRANSMISSION \n",
    "\n",
    "[Pleiades]\n",
    "\n",
    "\n",
    "\n",
    "we save this file as `config_Eu_151.ini` and reun `pleiades` to parse the file"
   ]
  },
  {
   "cell_type": "code",
   "execution_count": 5,
   "metadata": {},
   "outputs": [],
   "source": [
    "from pleiades import sammyInput\n"
   ]
  },
  {
   "cell_type": "code",
   "execution_count": null,
   "metadata": {},
   "outputs": [],
   "source": [
    "saminp = sammyInput.InputFile()"
   ]
  }
 ],
 "metadata": {
  "kernelspec": {
   "display_name": "Python 3 (ipykernel)",
   "language": "python",
   "name": "python3"
  },
  "language_info": {
   "codemirror_mode": {
    "name": "ipython",
    "version": 3
   },
   "file_extension": ".py",
   "mimetype": "text/x-python",
   "name": "python",
   "nbconvert_exporter": "python",
   "pygments_lexer": "ipython3",
   "version": "3.8.10"
  }
 },
 "nbformat": 4,
 "nbformat_minor": 2
}
